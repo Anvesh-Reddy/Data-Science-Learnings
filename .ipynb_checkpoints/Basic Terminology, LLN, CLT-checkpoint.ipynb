{
 "cells": [
  {
   "cell_type": "markdown",
   "metadata": {},
   "source": [
    "# Population, Sample & Estimator"
   ]
  },
  {
   "cell_type": "markdown",
   "metadata": {},
   "source": [
    "### Population\n",
    "- A group we are interested in studying. “Population” often refers to a group of people, but the term is used for other subjects, too.\n",
    "- Example: Census"
   ]
  },
  {
   "cell_type": "markdown",
   "metadata": {},
   "source": [
    "### Sample\n",
    "- The subset of a population used to collect data.\n",
    "\n",
    "##### Types of Sampling methods\n",
    "- simple random sampling\n",
    "- systematic sampling\n",
    "- stratified/cluster sampling etc..."
   ]
  },
  {
   "cell_type": "markdown",
   "metadata": {},
   "source": [
    "### Estimator\n",
    "- An estimator is a statistic that estimates some fact about the population.\n",
    "- Example: The sample mean is an estimator for the population mean.\n",
    "![](assets/images/sample-mean-formula.png)\n",
    "\n",
    "##### Point vs. Interval\n",
    "- Estimators can be a range of values (like a confidence interval) which is interval estimate or a single value (like the standard deviation) which is point estimate"
   ]
  },
  {
   "cell_type": "markdown",
   "metadata": {},
   "source": [
    "### Statistic vs. Parameter\n",
    "Statistics describe a sample. A parameter describes an entire population.\n",
    "![](assets/images/statistic vs parameter.gif)\n",
    "\n",
    "##### Sampling Error\n",
    "The difference between the statistic you measure and the parameter you would find\n",
    "\n",
    "##### Non-sampling errors\n",
    "This is due to poor data collection methods (like faulty instruments or inaccurate data recording, selection bias, non response bias (where individuals don’t want to or can’t respond to a survey), or other mistakes in collecting the data. Increasing the sample size will not reduce these errors.\n",
    "\n",
    "##### Sample size vs Sampling variability\n",
    "### Bias\n",
    "Bias is the tendency of a statistic to overestimate or underestimate a parameter. Bias can seep into your results for a slew of reasons including sampling or measurement errors, or unrepresentative samples.\n",
    "\n",
    "If the statistic is a true reflection of a population parameter it is an unbiased estimator. If it is not a true reflection of a population parameter it is a biased estimator."
   ]
  },
  {
   "cell_type": "markdown",
   "metadata": {},
   "source": [
    "# Law of large numbers"
   ]
  },
  {
   "cell_type": "markdown",
   "metadata": {},
   "source": [
    "- The sample mean  Xn  converges to the true mean  μ  (pointwise) as  n→∞ , with probability 1. In other words, the event  Xn→μ  has probability  1.\n",
    "- Or For all ϵ>0 ,  P(|Xn−μ|>ϵ)→0  as  n→∞ ."
   ]
  },
  {
   "cell_type": "markdown",
   "metadata": {},
   "source": [
    "![](assets/images/coin-toss-timeseries.png)"
   ]
  },
  {
   "cell_type": "markdown",
   "metadata": {},
   "source": [
    "# Central Limit Theorem"
   ]
  },
  {
   "cell_type": "markdown",
   "metadata": {},
   "source": [
    "The CLT states that for large  n , the distribution of  Xn  after standardization approaches a standard Normal distribution. The act of averaging will cause Normality to emerge."
   ]
  },
  {
   "cell_type": "markdown",
   "metadata": {},
   "source": [
    "![](assets/images/clt-distributions.png)"
   ]
  },
  {
   "cell_type": "markdown",
   "metadata": {},
   "source": [
    "# Hands-On"
   ]
  },
  {
   "cell_type": "code",
   "execution_count": 5,
   "metadata": {},
   "outputs": [],
   "source": [
    "# Import packages\n",
    "import pandas as pd\n",
    "import numpy as np\n",
    "\n",
    "# Set matplotlib as inline\n",
    "%matplotlib inline  "
   ]
  },
  {
   "cell_type": "markdown",
   "metadata": {},
   "source": [
    "## Create Population Data From Non-Normal Distribution"
   ]
  },
  {
   "cell_type": "code",
   "execution_count": 6,
   "metadata": {},
   "outputs": [],
   "source": [
    "# Create an empty dataframe\n",
    "population = pd.DataFrame()\n",
    "\n",
    "# Create an column that is 10000 random numbers drawn from a uniform distribution\n",
    "population['numbers'] = np.random.uniform(0,10000,size=10000)"
   ]
  },
  {
   "cell_type": "code",
   "execution_count": 7,
   "metadata": {},
   "outputs": [
    {
     "data": {
      "text/plain": [
       "<matplotlib.axes._subplots.AxesSubplot at 0x279c183d898>"
      ]
     },
     "execution_count": 7,
     "metadata": {},
     "output_type": "execute_result"
    },
    {
     "data": {
      "image/png": "[encoded data removed]",
      "text/plain": [
       "<Figure size 432x288 with 1 Axes>"
      ]
     },
     "metadata": {
      "needs_background": "light"
     },
     "output_type": "display_data"
    }
   ],
   "source": [
    "# Plot a histogram of the score data.\n",
    "# This confirms the data is not a normal distribution.\n",
    "population['numbers'].hist(bins=100)"
   ]
  },
  {
   "cell_type": "markdown",
   "metadata": {},
   "source": [
    "## View the True Mean Of Population"
   ]
  },
  {
   "cell_type": "code",
   "execution_count": 8,
   "metadata": {},
   "outputs": [
    {
     "data": {
      "text/plain": [
       "4999.759600072638"
      ]
     },
     "execution_count": 8,
     "metadata": {},
     "output_type": "execute_result"
    }
   ],
   "source": [
    "# View the mean of the numbers\n",
    "population['numbers'].mean()"
   ]
  },
  {
   "cell_type": "markdown",
   "metadata": {},
   "source": [
    "## Take A Sample Mean, Repeat 1000 Times"
   ]
  },
  {
   "cell_type": "code",
   "execution_count": 13,
   "metadata": {},
   "outputs": [],
   "source": [
    "# Create a list\n",
    "sampled_means = []\n",
    "\n",
    "# For 1000  times,\n",
    "for i in range(0,1000):\n",
    "    # Take a random sample of 100 rows from the population, take the mean of those rows, append to sampled_means\n",
    "    sampled_means.append(population.sample(n=100).mean().values[0])"
   ]
  },
  {
   "cell_type": "markdown",
   "metadata": {},
   "source": [
    "## Plot The Sample Means Of All 100 Samples"
   ]
  },
  {
   "cell_type": "code",
   "execution_count": 14,
   "metadata": {
    "scrolled": true
   },
   "outputs": [
    {
     "data": {
      "text/plain": [
       "<matplotlib.axes._subplots.AxesSubplot at 0x2a826630a58>"
      ]
     },
     "execution_count": 14,
     "metadata": {},
     "output_type": "execute_result"
    },
    {
     "data": {
      "image/png": "[encoded data removed]",
      "text/plain": [
       "<Figure size 432x288 with 1 Axes>"
      ]
     },
     "metadata": {
      "needs_background": "light"
     },
     "output_type": "display_data"
    }
   ],
   "source": [
    "# Plot a histogram of sampled_means. \n",
    "# It is clearly normally distributed and centered around 5000\n",
    "pd.Series(sampled_means).hist(bins=100)"
   ]
  },
  {
   "cell_type": "markdown",
   "metadata": {},
   "source": [
    "This is the critical chart, remember that the population distribution was uniform, however, this distribution is approaching normality. This is the key point to the central limit theory, and the reason we can assume sample means are not bias."
   ]
  },
  {
   "cell_type": "markdown",
   "metadata": {},
   "source": [
    "## View The Mean Sample Mean"
   ]
  },
  {
   "cell_type": "code",
   "execution_count": 15,
   "metadata": {
    "scrolled": true
   },
   "outputs": [
    {
     "data": {
      "text/plain": [
       "5002.958520211426"
      ]
     },
     "execution_count": 15,
     "metadata": {},
     "output_type": "execute_result"
    }
   ],
   "source": [
    "# View the mean of the sampled_means\n",
    "pd.Series(sampled_means).mean()"
   ]
  },
  {
   "cell_type": "markdown",
   "metadata": {},
   "source": [
    "## Compare To True Mean"
   ]
  },
  {
   "cell_type": "code",
   "execution_count": 16,
   "metadata": {},
   "outputs": [
    {
     "name": "stdout",
     "output_type": "stream",
     "text": [
      "The Mean Sample Mean is only 1.943317 different the True Population mean!\n"
     ]
    }
   ],
   "source": [
    "# Subtract Mean Sample Mean From True Population Mean\n",
    "error = population['numbers'].mean() - pd.Series(sampled_means).mean()\n",
    "\n",
    "# Print\n",
    "print('The Mean Sample Mean is only %f different the True Population mean!' % error)"
   ]
  }
 ],
 "metadata": {
  "anaconda-cloud": {},
  "kernelspec": {
   "display_name": "Python 3",
   "language": "python",
   "name": "python3"
  },
  "language_info": {
   "codemirror_mode": {
    "name": "ipython",
    "version": 3
   },
   "file_extension": ".py",
   "mimetype": "text/x-python",
   "name": "python",
   "nbconvert_exporter": "python",
   "pygments_lexer": "ipython3",
   "version": "3.7.0"
  }
 },
 "nbformat": 4,
 "nbformat_minor": 1
}

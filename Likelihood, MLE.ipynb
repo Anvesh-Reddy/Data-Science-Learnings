{
 "cells": [
  {
   "cell_type": "markdown",
   "metadata": {},
   "source": [
    "Points of discussion\n",
    "- Probability vs Likelihood\n",
    "- Density Estimation and Maximum Likelihood Estimation\n",
    "- Explaining likelihood with different distributions\n",
    "- Relationship to Machine Learning"
   ]
  },
  {
   "cell_type": "markdown",
   "metadata": {},
   "source": [
    "<b>Density estimation</b> involves selecting a probability distribution function and the parameters of that distribution that best explain the joint probability distribution of the observed data (X).\n",
    "\n",
    "Two commonly used approaches are:\n",
    "- Maximum a Posteriori (MAP), a Bayesian method - allows prior information about the form of the solution to be harnessed\n",
    "- Maximum Likelihood Estimation (MLE), frequentist method - assumes that all solutions are equally likely beforehand"
   ]
  },
  {
   "cell_type": "markdown",
   "metadata": {},
   "source": [
    "<b>Maximum likelihood estimation</b> involves defining a <b>likelihood function</b> for calculating the conditional probability of observing the data sample given a probability distribution and distribution parameters. This approach can be used to search a space of possible distributions and parameters.\n",
    "\n",
    "- Maximum Likelihood Estimation is a probabilistic framework for solving the problem of density estimation.\n",
    "- It involves maximizing a likelihood function in order to find the probability distribution and parameters that best explain the observed data.\n",
    "- It provides a framework for predictive modeling in machine learning where finding model parameters can be framed as an optimization problem.\n",
    "\n",
    "---\n",
    "First, it involves defining a parameter called theta that defines both the choice of the probability density function and the parameters of that distribution\n",
    "\n",
    "In Maximum Likelihood Estimation, we wish to maximize the probability of observing the data from the joint probability distribution given a specific probability distribution and its parameters, stated formally as:\n",
    "\n",
    "<b>P(X ; theta)</b>\n",
    "or\n",
    "<b>P(x1, x2, x3, …, xn ; theta)</b>\n",
    "\n",
    "This resulting conditional probability is referred to as the likelihood of observing the data given the model parameters and written using the notation L() to denote the likelihood function. For example:\n",
    "\n",
    "<b>L(X ; theta)</b>\n",
    "\n",
    "The objective of Maximum Likelihood Estimation is to find the set of parameters (theta) that maximize the likelihood function\n",
    "\n",
    "<b>maximize L(X ; theta)</b>\n",
    "\n",
    "---\n",
    "The joint probability distribution can be restated as the multiplication of the conditional probability for observing each example given the distribution parameters.\n",
    "\n",
    "<b>product i to n P(xi ; theta)</b>\n",
    "\n",
    "Multiplying many small probabilities together can be numerically unstable in practice, therefore, it is common to restate this problem as the sum of the log conditional probabilities of observing each example given the model parameters.\n",
    "\n",
    "<b>sum i to n log(P(xi ; theta))</b>\n",
    "\n",
    "It is common in optimization problems to prefer to minimize the cost function, rather than to maximize it.\n",
    "\n",
    "<b>minimize -sum i to n log(P(xi ; theta))</b>\n",
    "\n",
    "Maximum likelihood thus becomes minimization of the negative log-likelihood (NLL)"
   ]
  },
  {
   "cell_type": "markdown",
   "metadata": {},
   "source": [
    "## Relationship with ML\n",
    "We can frame the problem of fitting a machine learning model as the problem of probability density estimation. Specifically, the choice of model and model parameters is referred to as a modeling hypothesis h, and the problem involves finding h that best explains the data X.\n",
    "\n",
    "P(X ; h)\n",
    "\n",
    "We can, therefore, find the modeling hypothesis that maximizes the likelihood function.\n",
    "\n",
    "maximize sum i to n log(P(xi ; h))\n",
    "\n"
   ]
  },
  {
   "cell_type": "markdown",
   "metadata": {},
   "source": []
  },
  {
   "cell_type": "code",
   "execution_count": null,
   "metadata": {},
   "outputs": [],
   "source": []
  },
  {
   "cell_type": "code",
   "execution_count": null,
   "metadata": {},
   "outputs": [],
   "source": []
  }
 ],
 "metadata": {
  "kernelspec": {
   "display_name": "Python 3",
   "language": "python",
   "name": "python3"
  },
  "language_info": {
   "codemirror_mode": {
    "name": "ipython",
    "version": 3
   },
   "file_extension": ".py",
   "mimetype": "text/x-python",
   "name": "python",
   "nbconvert_exporter": "python",
   "pygments_lexer": "ipython3",
   "version": "3.7.0"
  }
 },
 "nbformat": 4,
 "nbformat_minor": 2
}

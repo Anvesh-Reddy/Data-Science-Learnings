{
 "cells": [
  {
   "cell_type": "code",
   "execution_count": 27,
   "metadata": {},
   "outputs": [],
   "source": [
    "import numpy as np\n",
    "import matplotlib.pyplot as plt\n",
    "import scipy.stats"
   ]
  },
  {
   "cell_type": "markdown",
   "metadata": {},
   "source": [
    "# Covariance\n",
    "Covariance is a measure of the tendency of two variables to vary together.<br>\n",
    "If we have two series, X and Y, their deviations from the mean are\n",
    "![](assets/images/cov-deviations.PNG)\n",
    "Covariance is the mean of these products:\n",
    "![](assets/images/cov-formula.PNG)\n",
    "where n is the length of the two series (they have to be the same length)"
   ]
  },
  {
   "cell_type": "code",
   "execution_count": 102,
   "metadata": {},
   "outputs": [
    {
     "data": {
      "text/plain": [
       "array([[ 0.09492563, -0.00780358],\n",
       "       [-0.00780358,  0.09846717]])"
      ]
     },
     "execution_count": 102,
     "metadata": {},
     "output_type": "execute_result"
    }
   ],
   "source": [
    "X = np.random.rand(50)\n",
    "Y = np.random.rand(50)\n",
    "\n",
    "np.cov(X, Y)[0, 1]"
   ]
  },
  {
   "cell_type": "markdown",
   "metadata": {},
   "source": [
    "Covariance is useful for some calculations, but it doesn't mean much by itself."
   ]
  },
  {
   "cell_type": "code",
   "execution_count": 22,
   "metadata": {},
   "outputs": [
    {
     "data": {
      "text/plain": [
       "0.16498713636061424"
      ]
     },
     "execution_count": 22,
     "metadata": {},
     "output_type": "execute_result"
    }
   ],
   "source": [
    "X = np.random.rand(50)\n",
    "Y = 2 * X + np.random.normal(0, 0.1, 50)\n",
    "\n",
    "np.cov(X, Y)[0, 1]"
   ]
  },
  {
   "cell_type": "markdown",
   "metadata": {},
   "source": [
    "The coefficient of correlation is a standardized version of covariance that is easier to interpret."
   ]
  },
  {
   "cell_type": "markdown",
   "metadata": {},
   "source": [
    "# Correlation\n",
    "A correlation is a statistic intended to quantify the strength of the relationship between two variables.<br>\n"
   ]
  },
  {
   "cell_type": "markdown",
   "metadata": {},
   "source": [
    "### Pearson’s Correlation\n",
    "Divide the deviations by the standard deviation, which yields standard scores(dimensionless scores), and compute the product of standard scores:\n",
    "![](assets/images/corr-pearson-product.PNG)\n",
    "The mean of these products is\n",
    "![](assets/images/corr-pearson-mean.PNG)\n",
    "In terms of covaiance:\n",
    "![](assets/images/corr-pearson-cov.PNG)\n",
    "- The value lies between -1 and +1<br>\n",
    "- If ρ is positive, the correlation is positive\n",
    "- If ρ is negative, the correlation is negative\n",
    "- The magnitude of ρ indicates the strength of the correlation\n"
   ]
  },
  {
   "cell_type": "code",
   "execution_count": 20,
   "metadata": {},
   "outputs": [],
   "source": [
    "# X = [1,2,3,4,5,6,7,8,9]\n",
    "# Y = [2,1,2,4.5,7,6.5,6,9,9.5]"
   ]
  },
  {
   "cell_type": "code",
   "execution_count": 45,
   "metadata": {},
   "outputs": [
    {
     "data": {
      "image/png": "[encoded data removed]",
      "text/plain": [
       "<Figure size 432x288 with 1 Axes>"
      ]
     },
     "metadata": {
      "needs_background": "light"
     },
     "output_type": "display_data"
    }
   ],
   "source": [
    "plt.scatter(X,Y)\n",
    "plt.xlabel('X Value')\n",
    "plt.ylabel('Y Value')\n",
    "plt.show()"
   ]
  },
  {
   "cell_type": "code",
   "execution_count": 24,
   "metadata": {},
   "outputs": [
    {
     "name": "stdout",
     "output_type": "stream",
     "text": [
      "Covariance of X and Y: 0.16\n",
      "Correlation of X and Y: 0.99\n"
     ]
    }
   ],
   "source": [
    "print('Covariance of X and Y: %.2f'%np.cov(X, Y)[0, 1])\n",
    "print('Correlation of X and Y: %.2f'%np.corrcoef(X, Y)[0, 1])"
   ]
  },
  {
   "cell_type": "markdown",
   "metadata": {},
   "source": [
    "What if Pearson’s correlation is near 0?<br> \n",
    "It is tempting to conclude that there is no relationship between the variables, but that conclusion is not valid. \n",
    "- Pearson’s correlation only measures linear relationships<br>\n",
    "<br>\n",
    "<b>Examples of datasets with a range of correlations</b>\n",
    "![](assets/images/corr-pearson-examples.png)"
   ]
  },
  {
   "cell_type": "markdown",
   "metadata": {},
   "source": [
    "### Spearman’s Rank Correlation\n",
    "Pearson’s correlation works well if the relationship between variables is linear and if the variables are roughly normal. But it is not robust in the presence of outliers.<br>\n",
    "Spearman’s rank correlation is an alternative that mitigates the effect of outliers and skewed distributions as well as non-linearity. "
   ]
  },
  {
   "cell_type": "code",
   "execution_count": 29,
   "metadata": {},
   "outputs": [
    {
     "data": {
      "text/plain": [
       "0.9825210084033614"
      ]
     },
     "execution_count": 29,
     "metadata": {},
     "output_type": "execute_result"
    }
   ],
   "source": [
    "scipy.stats.spearmanr(X, Y)[0]"
   ]
  },
  {
   "cell_type": "markdown",
   "metadata": {},
   "source": [
    "<b>Examples</b>"
   ]
  },
  {
   "cell_type": "code",
   "execution_count": 96,
   "metadata": {},
   "outputs": [
    {
     "data": {
      "text/plain": [
       "(array([1, 2, 3, 4, 5, 6]),\n",
       " array([ 2,  4,  6,  8, 10, 12]),\n",
       " array([4.  , 5.  , 5.1 , 5.2 , 7.01, 8.95]),\n",
       " array([ 1.    ,  0.75  ,  0.7499,  0.2   , -0.5   , -2.5   ]),\n",
       " array([ 0.        , -0.69314718, -1.09861229, -1.38629436, -1.60943791,\n",
       "        -1.79175947]),\n",
       " array([2.        , 2.82842712, 3.46410162, 4.        , 4.47213595,\n",
       "        4.89897949]))"
      ]
     },
     "execution_count": 96,
     "metadata": {},
     "output_type": "execute_result"
    }
   ],
   "source": [
    "x = np.array([1,2,3,4,5,6])\n",
    "y_linear_inc =  2 * x\n",
    "y_mon_inc = np.array([4,5,5.1,5.2,7.01,8.95])\n",
    "y_mon_dec = np.array([1, 0.75, 0.7499, 0.2, -.5, -2.5])\n",
    "y_log = np.log(1/x)\n",
    "y_par = np.sqrt(4*x)\n",
    "\n",
    "x, y_linear_inc, y_mon_inc, y_mon_dec, y_log, y_par"
   ]
  },
  {
   "cell_type": "code",
   "execution_count": 97,
   "metadata": {},
   "outputs": [
    {
     "data": {
      "image/png": "[encoded data removed]",
      "text/plain": [
       "<Figure size 432x288 with 1 Axes>"
      ]
     },
     "metadata": {
      "needs_background": "light"
     },
     "output_type": "display_data"
    },
    {
     "data": {
      "image/png": "[encoded data removed]",
      "text/plain": [
       "<Figure size 432x288 with 1 Axes>"
      ]
     },
     "metadata": {
      "needs_background": "light"
     },
     "output_type": "display_data"
    },
    {
     "data": {
      "image/png": "[encoded data removed]",
      "text/plain": [
       "<Figure size 432x288 with 1 Axes>"
      ]
     },
     "metadata": {
      "needs_background": "light"
     },
     "output_type": "display_data"
    },
    {
     "data": {
      "image/png": "[encoded data removed]",
      "text/plain": [
       "<Figure size 432x288 with 1 Axes>"
      ]
     },
     "metadata": {
      "needs_background": "light"
     },
     "output_type": "display_data"
    },
    {
     "data": {
      "image/png": "[encoded data removed]",
      "text/plain": [
       "<Figure size 432x288 with 1 Axes>"
      ]
     },
     "metadata": {
      "needs_background": "light"
     },
     "output_type": "display_data"
    }
   ],
   "source": [
    "plt.scatter(x,y_linear_inc)\n",
    "plt.xlabel('X Value')\n",
    "plt.ylabel('Y Value')\n",
    "plt.title('Linear')\n",
    "plt.show()\n",
    "\n",
    "plt.scatter(x,y_mon_inc)\n",
    "plt.xlabel('X Value')\n",
    "plt.ylabel('Y Value')\n",
    "plt.title('Monotonically increasing')\n",
    "plt.show()\n",
    "\n",
    "plt.scatter(x,y_mon_dec)\n",
    "plt.xlabel('X Value')\n",
    "plt.ylabel('Y Value')\n",
    "plt.title('Monotonically decreasing')\n",
    "plt.show()\n",
    "\n",
    "plt.scatter(x,y_log)\n",
    "plt.xlabel('X Value')\n",
    "plt.ylabel('Y Value')\n",
    "plt.title('Logarithmic')\n",
    "plt.show()\n",
    "\n",
    "plt.scatter(x,y_par)\n",
    "plt.xlabel('X Value')\n",
    "plt.ylabel('Y Value')\n",
    "plt.title('Parabola')\n",
    "plt.show()"
   ]
  },
  {
   "cell_type": "code",
   "execution_count": 98,
   "metadata": {},
   "outputs": [
    {
     "name": "stdout",
     "output_type": "stream",
     "text": [
      "Pearson Correlation for linear: 1.00\n",
      "Spearman Correlation for linear: 1.00\n",
      "Pearson Correlation for monotonic increasing: 0.92\n",
      "Spearman Correlation for monotonic increasing: 1.00\n",
      "Pearson Correlation for monotonic decreasing: -0.89\n",
      "Spearman Correlation for monotonic decreasing: -1.00\n",
      "Pearson Correlation for logarithmic: -0.97\n",
      "Spearman Correlation for logarithmic: -1.00\n",
      "Pearson Correlation for parabola: 0.99\n",
      "Spearman Correlation for parabola: 1.00\n"
     ]
    }
   ],
   "source": [
    "print('Pearson Correlation for linear: %.2f'%np.corrcoef(x, y_linear_inc)[0, 1])\n",
    "print('Spearman Correlation for linear: %.2f'%scipy.stats.spearmanr(x, y_linear_inc)[0])\n",
    "\n",
    "print('Pearson Correlation for monotonic increasing: %.2f'%np.corrcoef(x, y_mon_inc)[0, 1])\n",
    "print('Spearman Correlation for monotonic increasing: %.2f'%scipy.stats.spearmanr(x, y_mon_inc)[0])\n",
    "\n",
    "print('Pearson Correlation for monotonic decreasing: %.2f'%np.corrcoef(x, y_mon_dec)[0, 1])\n",
    "print('Spearman Correlation for monotonic decreasing: %.2f'%scipy.stats.spearmanr(x, y_mon_dec)[0])\n",
    "\n",
    "print('Pearson Correlation for logarithmic: %.2f'%np.corrcoef(x, y_log)[0, 1])\n",
    "print('Spearman Correlation for logarithmic: %.2f'%scipy.stats.spearmanr(x, y_log)[0])\n",
    "\n",
    "print('Pearson Correlation for parabola: %.2f'%np.corrcoef(x, y_par)[0, 1])\n",
    "print('Spearman Correlation for parabola: %.2f'%scipy.stats.spearmanr(x, y_par)[0])"
   ]
  },
  {
   "cell_type": "markdown",
   "metadata": {},
   "source": [
    "# Causation\n",
    "If variables A and B are correlated, there are three possible explanations: A causes B, or B causes A, or some other set of factors causes both A and B\n",
    "<b>Correlation does not imply causation</b>"
   ]
  },
  {
   "cell_type": "code",
   "execution_count": null,
   "metadata": {},
   "outputs": [],
   "source": []
  }
 ],
 "metadata": {
  "kernelspec": {
   "display_name": "Python 3",
   "language": "python",
   "name": "python3"
  },
  "language_info": {
   "codemirror_mode": {
    "name": "ipython",
    "version": 3
   },
   "file_extension": ".py",
   "mimetype": "text/x-python",
   "name": "python",
   "nbconvert_exporter": "python",
   "pygments_lexer": "ipython3",
   "version": "3.7.0"
  }
 },
 "nbformat": 4,
 "nbformat_minor": 2
}

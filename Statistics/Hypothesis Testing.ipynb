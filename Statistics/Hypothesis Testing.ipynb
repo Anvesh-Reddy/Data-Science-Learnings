{
 "cells": [
  {
   "cell_type": "code",
   "execution_count": null,
   "metadata": {},
   "outputs": [],
   "source": []
  },
  {
   "cell_type": "code",
   "execution_count": null,
   "metadata": {},
   "outputs": [],
   "source": []
  },
  {
   "cell_type": "markdown",
   "metadata": {},
   "source": [
    "---\n",
    "## Correlation analysis (bivariate analysis)\n",
    "\n",
    "<b>Qualitative analysis</b> This performs computation of the descriptive statistics of dependent numerical/categorical attributes against each unique value of the independent categorical attribute. This perspective helps intuitively understand the relationship between X and Y."
   ]
  },
  {
   "cell_type": "markdown",
   "metadata": {},
   "source": [
    "<table>\n",
    "    <tr>\n",
    "        <th>Attribute types</th>\n",
    "        <th>Analysis</th>\n",
    "    </tr>\n",
    "    <tr><td>Both categorical (X, Y) </td><td>Contingence table with unique counts of X (Y) per unique value of Y (X) </td></tr> \n",
    "    <tr><td>Categorical (X) versus numerical (Y) </td><td>Descriptive statistics or histogram of Y per unique value of X</td></tr> \n",
    "</table>"
   ]
  },
  {
   "cell_type": "markdown",
   "metadata": {},
   "source": [
    "<b>Quantitative analysis</b> This is a quantitative test of the relationship between X and Y, based on hypothesis testing framework. This perspective provides a formal and mathematical methodology to quantitatively determine the existence and/or strength of the relationship."
   ]
  },
  {
   "cell_type": "markdown",
   "metadata": {},
   "source": [
    "<table>\n",
    "    <tr>\n",
    "        <th></th>\n",
    "        <th>Categorical</th>\n",
    "        <th>Numerical</th>\n",
    "    </tr>\n",
    "    <tr>\n",
    "        <td>Categorical</td>\n",
    "        <td>Chi-square test <br>Information gain</td>\n",
    "        <td>Student T-test <br>ANOVA <br>Logistic regression <br>Discretize Y (left column)</td>\n",
    "    </tr>\n",
    "    <tr>\n",
    "        <td>Numerical</td> \n",
    "        <td>Student T-test <br>ANOVA <br>Logistic Regression <br>Discretize X (row above)</td>\n",
    "        <td>Correlation <br>Linear Regression <br>Discretize Y (left column) <br>Discretize X (row above)</td>\n",
    "    </tr>\n",
    "</table>"
   ]
  },
  {
   "cell_type": "code",
   "execution_count": null,
   "metadata": {},
   "outputs": [],
   "source": []
  },
  {
   "cell_type": "code",
   "execution_count": null,
   "metadata": {},
   "outputs": [],
   "source": []
  }
 ],
 "metadata": {
  "kernelspec": {
   "display_name": "Python 3",
   "language": "python",
   "name": "python3"
  },
  "language_info": {
   "codemirror_mode": {
    "name": "ipython",
    "version": 3
   },
   "file_extension": ".py",
   "mimetype": "text/x-python",
   "name": "python",
   "nbconvert_exporter": "python",
   "pygments_lexer": "ipython3",
   "version": "3.7.0"
  }
 },
 "nbformat": 4,
 "nbformat_minor": 2
}
